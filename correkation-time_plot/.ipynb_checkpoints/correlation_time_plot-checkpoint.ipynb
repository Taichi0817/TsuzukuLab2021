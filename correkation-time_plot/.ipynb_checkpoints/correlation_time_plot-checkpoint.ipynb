{
 "cells": [
  {
   "cell_type": "code",
   "execution_count": 3,
   "metadata": {},
   "outputs": [
    {
     "ename": "SyntaxError",
     "evalue": "unexpected character after line continuation character (<ipython-input-3-5819d2781193>, line 10)",
     "output_type": "error",
     "traceback": [
      "\u001b[1;36m  File \u001b[1;32m\"<ipython-input-3-5819d2781193>\"\u001b[1;36m, line \u001b[1;32m10\u001b[0m\n\u001b[1;33m    from ..\\assets import create_ideal_jjy\u001b[0m\n\u001b[1;37m                                          ^\u001b[0m\n\u001b[1;31mSyntaxError\u001b[0m\u001b[1;31m:\u001b[0m unexpected character after line continuation character\n"
     ]
    }
   ],
   "source": [
    "import requests\n",
    "import time\n",
    "import datetime\n",
    "\n",
    "import math\n",
    "import matplotlib.pyplot as plt\n",
    "import numpy as np\n",
    "import pprint\n",
    "\n",
    "from ..\\assets import create_ideal_jjy\n",
    "from assets import make_noise\n",
    "from assets import calculate_correlation\n",
    "from assets import line_notify\n",
    "\n",
    "\n",
    "start = time.time()\n",
    "n = 120\n",
    "noc = 1 #number_of_consecutive何分連続するか\n",
    "roc = 10 #range_of_cnr   CNの範囲設定\n",
    "create = create_ideal_jjy.CreateIdealJJY(n)\n",
    "ideal_signal = create.create_signal()\n",
    "number_of_simulations = 1000\n",
    "cc = np.zeros(60)\n",
    "error = 0\n",
    "ber = np.zeros((roc, number_of_simulations//60))"
   ]
  },
  {
   "cell_type": "code",
   "execution_count": null,
   "metadata": {
    "pycharm": {
     "name": "#%%\n"
    }
   },
   "outputs": [],
   "source": []
  }
 ],
 "metadata": {
  "kernelspec": {
   "display_name": "Python 3",
   "language": "python",
   "name": "python3"
  },
  "language_info": {
   "codemirror_mode": {
    "name": "ipython",
    "version": 3
   },
   "file_extension": ".py",
   "mimetype": "text/x-python",
   "name": "python",
   "nbconvert_exporter": "python",
   "pygments_lexer": "ipython3",
   "version": "3.8.8"
  }
 },
 "nbformat": 4,
 "nbformat_minor": 1
}
